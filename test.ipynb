{
 "cells": [
  {
   "cell_type": "code",
   "execution_count": 1,
   "metadata": {},
   "outputs": [],
   "source": [
    "res = {'response': {'header': {'resultCode': '00', 'resultMsg': 'NORMAL SERVICE.'}, 'body': {'items': {'item': [{'atcId': 'L2022120700000910', 'lstPlace': '구로5동 영림중학교~거리공원~자전거도로(도림천)~대림3동현대아파트3차후문앞', 'lstPrdtNm': '검정색 캉골가방', 'lstSbjt': '검정색 캉골 크로스백 (A4용지 두장정도 사이즈)', 'lstYmd': '2022-12-01', 'prdtClNm': '가방 > 기타가방', 'rnum': '1'}, {'atcId': 'L2022120700000752', 'lstPlace': '버스안', 'lstPrdtNm': '데상트가방', 'lstSbjt': '데상트가방', 'lstYmd': '2022-12-06', 'prdtClNm': '가방 > 기타가방', 'rnum': '2'}, {'atcId': 'L2022120700000239', 'lstPlace': '지하철 7호선 하계역', 'lstPrdtNm': '빨강색 백팩', 'lstSbjt': '빨강색 백팩을 분실했습니다.', 'lstYmd': '2022-12-06', 'prdtClNm': '가방 > 기타가방', 'rnum': '3'}, {'atcId': 'L2022120700000185', 'lstPlace': '창동 창동역 1번출구 인근벤치', 'lstPrdtNm': '서류가방', 'lstSbjt': '서류가방(블랙(검정)색)을 분실하였습니다.', 'lstYmd': '2022-12-06', 'prdtClNm': '가방 > 기타가방', 'rnum': '4'}, {'atcId': 'L2022120700000160', 'lstPlace': '지하철 6호선 동묘에서 이태원 사이', 'lstPrdtNm': '베이지색 에코백 (BP PILATES) 음식물', 'lstSbjt': '6호선 동묘역에서 이태원역 사이 흰색 에코백 분실 음식물 있음', 'lstYmd': '2022-12-06', 'prdtClNm': '가방 > 기타가방', 'rnum': '5'}, {'atcId': 'L2022120700000041', 'lstPlace': '택시 내', 'lstPrdtNm': '루이비통 클러치백', 'lstSbjt': '루이비통 클러치백(블랙(검정)색)을 분실하였습니다.', 'lstYmd': '2022-12-06', 'prdtClNm': '가방 > 기타가방', 'rnum': '6'}, {'atcId': 'L2022120600000819', 'lstPlace': '수유역 방면 버스정류장', 'lstPrdtNm': '캉골 가방', 'lstSbjt': '캉골 가방(화이트(흰)색)을 분실하였습니다.', 'lstYmd': '2022-12-06', 'prdtClNm': '가방 >  기타가방', 'rnum': '7'}, {'atcId': 'L2022120600000788', 'lstPlace': '응암역 역사내', 'lstPrdtNm': '파우치', 'lstSbjt': '파우치(피치오렌지(오렌지)색)을 분실하였습니다.', 'lstYmd': '2022-12-06', 'prdtClNm': '가방 > 기타가방', 'rnum': '8'}, {'atcId': 'L2022120600000753', 'lstPlace': '택시 안', 'lstPrdtNm': '디올 클러치', 'lstSbjt': '디올 클러치(블랙(검정)색)을 분실하였습니다.', 'lstYmd': '2022-12-05', 'prdtClNm': '가방 > 기타가방', 'rnum': '9'}, {'atcId': 'L2022120600000655', 'lstPlace': '삼전어린이공원', 'lstPrdtNm': '하늘색옆으로매는가방', 'lstSbjt': '하늘색옆으로매는가방(딥스카이블루(새파란하늘)색)을 분실하였습니다.', 'lstYmd': '2022-12-06', 'prdtClNm': '가방 > 기타가방', 'rnum': '10'}]}, 'numOfRows': '10', 'pageNo': '1', 'totalCount': '49'}}}"
   ]
  },
  {
   "cell_type": "code",
   "execution_count": 4,
   "metadata": {},
   "outputs": [
    {
     "data": {
      "text/plain": [
       "dict_keys(['atcId', 'lstPlace', 'lstPrdtNm', 'lstSbjt', 'lstYmd', 'prdtClNm', 'rnum'])"
      ]
     },
     "execution_count": 4,
     "metadata": {},
     "output_type": "execute_result"
    }
   ],
   "source": [
    "res['response']['body']['items']['item'][0].keys()"
   ]
  },
  {
   "cell_type": "code",
   "execution_count": null,
   "metadata": {},
   "outputs": [],
   "source": []
  }
 ],
 "metadata": {
  "kernelspec": {
   "display_name": "Python 3.8.15 ('aivle')",
   "language": "python",
   "name": "python3"
  },
  "language_info": {
   "codemirror_mode": {
    "name": "ipython",
    "version": 3
   },
   "file_extension": ".py",
   "mimetype": "text/x-python",
   "name": "python",
   "nbconvert_exporter": "python",
   "pygments_lexer": "ipython3",
   "version": "3.8.15"
  },
  "orig_nbformat": 4,
  "vscode": {
   "interpreter": {
    "hash": "9676231af8a8b40e18afff2eb530987aa2ea69eb5abd161b4e84bd9287972a9b"
   }
  }
 },
 "nbformat": 4,
 "nbformat_minor": 2
}
