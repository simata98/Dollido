{
 "cells": [
  {
   "cell_type": "code",
   "execution_count": 2,
   "metadata": {},
   "outputs": [
    {
     "name": "stdout",
     "output_type": "stream",
     "text": [
      "{'response': {'header': {'resultCode': '00', 'resultMsg': 'NORMAL SERVICE.'}, 'body': {'items': {'item': [{'atcId': 'F2022121200000042', 'depPlace': '백운파출소', 'fdFilePathImg': 'https://www.lost112.go.kr/lostnfs/images/uploadImg/20221212/20221212012528047.jpg', 'fdPrdtNm': '남성용지갑(몽블랑)', 'fdSbjt': '남성용지갑(몽블랑)(블랙(검정)색)을 습득하여 보관하고 있습니다.', 'fdSn': '1', 'fdYmd': '2022-12-12', 'prdtClNm': '지갑 > 남성용 지갑', 'rnum': '1'}, {'atcId': 'F2022121200000041', 'depPlace': '분평지구대', 'fdFilePathImg': 'https://www.lost112.go.kr/lostnfs/images/sub/img02_no_img.gif', 'fdPrdtNm': '프라다 검정색 여성용 가방', 'fdSbjt': '프라다 검정색 여성용 가방(블랙(검정)색)을 습득하여 보관하고 있습니다.', 'fdSn': '1', 'fdYmd': '2022-12-12', 'prdtClNm': '가방 > 여성용가방', 'rnum': '2'}, {'atcId': 'F2022121200000040', 'depPlace': '평창파출소', 'fdFilePathImg': 'https://www.lost112.go.kr/lostnfs/images/sub/img02_no_img.gif', 'fdPrdtNm': '삼성노트휴대폰(파란색커버)', 'fdSbjt': '삼성노트휴대폰(파란색커버)(코발트(짙은청록)색)을 습득하여 보관하고 있습니다.', 'fdSn': '1', 'fdYmd': '2022-12-12', 'prdtClNm': '휴대폰 > 삼성휴대폰', 'rnum': '3'}, {'atcId': 'F2022121200000039', 'depPlace': '광명지구대', 'fdFilePathImg': 'https://www.lost112.go.kr/lostnfs/images/sub/img02_no_img.gif', 'fdPrdtNm': '건설업 기초안전교육 이수증 외 카드류 2매', 'fdSbjt': '건설업 기초안전교육 이수증 외 카드류 2매(화이트(흰)색)을 습득하여 보관하고 있습니다.', 'fdSn': '1', 'fdYmd': '2022-12-12', 'prdtClNm': '카드 > 기타카드', 'rnum': '4'}, {'atcId': 'F2022121200000038', 'depPlace': '을지로3가파출소', 'fdFilePathImg': 'https://www.lost112.go.kr/lostnfs/images/sub/img02_no_img.gif', 'fdPrdtNm': '신라명과쇼핑백(지갑, 의류, 휴대폰충전기)', 'fdSbjt': '신라명과쇼핑백(지갑, 의류, 휴대폰충전기)(브라운(갈)색)을 습득하여 보관하고 있습니다.', 'fdSn': '1', 'fdYmd': '2022-12-12', 'prdtClNm': '쇼핑백 > 쇼핑백', 'rnum': '5'}, {'atcId': 'F2022121200000037', 'depPlace': '구암지구대', 'fdFilePathImg': 'https://www.lost112.go.kr/lostnfs/images/uploadImg/20221212/20221212011219240.jpg', 'fdPrdtNm': '삼성핸드폰(노트20)', 'fdSbjt': '삼성핸드폰(노트20)(그레이(회)색)을 습득하여 보관하고 있습니다.', 'fdSn': '1', 'fdYmd': '2022-12-11', 'prdtClNm': '휴대폰 > 삼성휴대폰', 'rnum': '6'}, {'atcId': 'F2022121200000036', 'depPlace': '일직파출소', 'fdFilePathImg': 'https://www.lost112.go.kr/lostnfs/images/sub/img02_no_img.gif', 'fdPrdtNm': '토리버치 클러치백', 'fdSbjt': '토리버치 클러치백(블랙(검정)색)을 습득하여 보관하고 있습니다.', 'fdSn': '1', 'fdYmd': '2022-12-12', 'prdtClNm': '가방 > 여성용가방', 'rnum': '7'}, {'atcId': 'F2022121200000035', 'depPlace': '노원역지구대', 'fdFilePathImg': 'https://www.lost112.go.kr/lostnfs/images/uploadImg/20221212/20221212010956569.jpg', 'fdPrdtNm': '남성용 클러치, 점퍼', 'fdSbjt': '남성용 클러치, 점퍼(블랙(검정)색)을 습득하여 보관하고 있습니다.', 'fdSn': '1', 'fdYmd': '2022-12-12', 'prdtClNm': '가방 > 남성용가방', 'rnum': '8'}, {'atcId': 'F2022121200000034', 'depPlace': '옥포지구대', 'fdFilePathImg': 'https://www.lost112.go.kr/lostnfs/images/sub/img02_no_img.gif', 'fdPrdtNm': '루이까또즈 남성용 지갑', 'fdSbjt': '루이까또즈 남성용 지갑(다크오렌지(어두운오렌지)색)을 습득하여 보관하고 있습니다.', 'fdSn': '1', 'fdYmd': '2022-12-11', 'prdtClNm': '지갑 > 남성용 지갑', 'rnum': '9'}, {'atcId': 'F2022121200000033', 'depPlace': '철마지구대', 'fdFilePathImg': 'https://www.lost112.go.kr/lostnfs/images/sub/img02_no_img.gif', 'fdPrdtNm': '검정색 남성반지갑', 'fdSbjt': '검정색 남성반지갑(블랙(검정)색)을 습득하여 보관하고 있습니다.', 'fdSn': '1', 'fdYmd': '2022-12-12', 'prdtClNm': '지갑 > 남성용 지갑', 'rnum': '10'}]}, 'numOfRows': '10', 'pageNo': '1', 'totalCount': '549522'}}}\n"
     ]
    }
   ],
   "source": [
    "import requests\n",
    "import xmltodict\n",
    "\n",
    "url = 'http://apis.data.go.kr/1320000/LosfundInfoInqireService/getLosfundInfoAccToClAreaPd'\n",
    "params ={'serviceKey' : 'QKItEKc++kSGuac4NXrc3ukFyI5co7vZL8RJs+zQTLNGLbpF8Ye4FyPMljEXst017F0idpn3lKcCJjbT0XsxsA==', \n",
    "            # 'PRDT_CL_CD_01' : 'PRH000', \n",
    "            #'PRDT_CL_CD_02' : 'PRH200', \n",
    "            # 'FD_COL_CD' : 'CL1002', \n",
    "            #'START_YMD' : '20180302', \n",
    "            #'END_YMD' : '20180802', \n",
    "            #'N_FD_LCT_CD' : 'LCA000', \n",
    "            # 'pageNo' : '1', \n",
    "            # 'numOfRows' : '1000'\n",
    "            }\n",
    "\n",
    "response = requests.get(url, params=params).content\n",
    "jsonObject = xmltodict.parse(response)\n",
    "\n",
    "print(jsonObject)"
   ]
  },
  {
   "cell_type": "code",
   "execution_count": 3,
   "metadata": {},
   "outputs": [],
   "source": [
    "def Par(**kwargs):\n",
    "    params ={'serviceKey' : 'QKItEKc++kSGuac4NXrc3ukFyI5co7vZL8RJs+zQTLNGLbpF8Ye4FyPMljEXst017F0idpn3lKcCJjbT0XsxsA==', \n",
    "            #  'PRDT_CL_CD_01' : 'PRJ000', \n",
    "            #  'PRDT_CL_CD_02' : 'PRH200', \n",
    "            #  'FD_COL_CD' : 'CL1002', \n",
    "            #  'START_YMD' : '20220101', \n",
    "            #  'END_YMD' : '20221212', \n",
    "            #  'pageNo' : '1', \n",
    "             'numOfRows' : '1'\n",
    "             }\n",
    "    print(kwargs)\n",
    "    for key, value in kwargs.items():\n",
    "        params[key] = value\n",
    "    print(params)"
   ]
  },
  {
   "cell_type": "code",
   "execution_count": 12,
   "metadata": {},
   "outputs": [
    {
     "name": "stdout",
     "output_type": "stream",
     "text": [
      "20221216 20221215\n"
     ]
    }
   ],
   "source": [
    "from datetime import date, timedelta\n",
    " \n",
    "today = date.today()\n",
    "yesterday = date.today() - timedelta(1)\n",
    " \n",
    "today = today.strftime('%Y%m%d')\n",
    "yesterday = yesterday.strftime('%Y%m%d')\n",
    "print(today, yesterday)"
   ]
  }
 ],
 "metadata": {
  "kernelspec": {
   "display_name": "Python 3.8.15 ('aivle')",
   "language": "python",
   "name": "python3"
  },
  "language_info": {
   "codemirror_mode": {
    "name": "ipython",
    "version": 3
   },
   "file_extension": ".py",
   "mimetype": "text/x-python",
   "name": "python",
   "nbconvert_exporter": "python",
   "pygments_lexer": "ipython3",
   "version": "3.8.15"
  },
  "orig_nbformat": 4,
  "vscode": {
   "interpreter": {
    "hash": "9676231af8a8b40e18afff2eb530987aa2ea69eb5abd161b4e84bd9287972a9b"
   }
  }
 },
 "nbformat": 4,
 "nbformat_minor": 2
}
