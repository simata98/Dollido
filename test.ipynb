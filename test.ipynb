{
 "cells": [
  {
   "cell_type": "code",
   "execution_count": 1,
   "metadata": {},
   "outputs": [],
   "source": [
    "res = {'response': {'header': {'resultCode': '00', 'resultMsg': 'NORMAL SERVICE.'}, 'body': {'items': {'item': [{'atcId': 'L2022120500000931', 'lstPlace': '여의도역 방향 503번 버스 내', 'lstPrdtNm': '뱀피무늬 서류가방', 'lstSbjt': '뱀피무늬 서류가방(엘로우(노랑)색)을 분실하였습니다.', 'lstYmd': '2022-12-05', 'prdtClNm': '가방 > 기타가방', 'rnum': '1'}, {'atcId': 'L2022120500000886', 'lstPlace': '사당동 1035-18 근처', 'lstPrdtNm': '디스커버리(discovery) 백팩 및 에어팟', 'lstSbjt': '디스커버리 가방 및 에어팟', 'lstYmd': '2022-12-02', 'prdtClNm': '가방 > 기타가방', 'rnum': '2'}, {'atcId': 'L2022120500000621', 'lstPlace': '서경대학교 혜임관 흡연구역 내', 'lstPrdtNm': '검정색 여행캐리어크기의 검정하드케이스, 조명(영화)장비 등', 'lstSbjt': '검정색 여행캐리어크기의  검정하드케이스, 조명(영화)장비 등(블랙(검정)색)을 분실하였습니다.', 'lstYmd': '2022-12-05', 'prdtClNm': '가방 > 기타가방', 'rnum': '3'}, {'atcId': 'L2022120500000206', 'lstPlace': '지하철내(2,9호선.공항철도)', 'lstPrdtNm': '체크(검정,흰색)작은가방- 지갑(신분증有),줄이어폰,화장품,핸드크림 등', 'lstSbjt': '가방분실(체크무늬가방 흰/검)', 'lstYmd': '2022-12-04', 'prdtClNm': '가방 > 기타가방', 'rnum': '4'}, {'atcId': 'L2022120400000639', 'lstPlace': '구로119안전센터 근처 도로', 'lstPrdtNm': '조그만 에코백', 'lstSbjt': '조그만 에코백을 잃어버렸습니다.', 'lstYmd': '2022-12-04', 'prdtClNm': '가방 > 기타가방', 'rnum': '5'}, {'atcId': 'L2022120400000527', 'lstPlace': '지하철역', 'lstPrdtNm': '가방', 'lstSbjt': '검정색 가방을 잃어버렸습니다', 'lstYmd': '2022-12-04', 'prdtClNm': '가방 > 기타가방', 'rnum': '6'}, {'atcId': 'L2022120400000472', 'lstPlace': '택시 안', 'lstPrdtNm': '마르지엘라 에코백', 'lstSbjt': '마르지 엘라 에코백(블랙(검정)색)을 분실하였습니다.', 'lstYmd': '2022-12-04', 'prdtClNm': '가방 > 기타가방', 'rnum': '7'}, {'atcId': 'L2022120400000351', 'lstPlace': '강남역 주변', 'lstPrdtNm': '나이키 크로스백', 'lstSbjt': '나이키 크로스백(블랙(검정)색)을 분실하였습니다.', 'lstYmd': '2022-12-01', 'prdtClNm': '가방 > 기타가방', 'rnum': '8'}, {'atcId': 'L2022120400000323', 'lstPlace': '지하철 4호선 서울역 열차 내', 'lstPrdtNm': '뉴발란스 백팩 (고리에 토토로 인형  부착)', 'lstSbjt': '뉴발란스 백팩 분실', 'lstYmd': '2022-12-04', 'prdtClNm': '가방 > 기타가방', 'rnum': '9'}, {'atcId': 'L2022120400000237', 'lstPlace': '은빛2단지 노상', 'lstPrdtNm': '검은색 가방', 'lstSbjt': '검은색 가방(블랙(검정)색)을 분실하였습니다.', 'lstYmd': '2022-12-04', 'prdtClNm': '가방 > 기타 가방', 'rnum': '10'}]}, 'numOfRows': '10', 'pageNo': '1', 'totalCount': '35'}}}\n"
   ]
  },
  {
   "cell_type": "code",
   "execution_count": 13,
   "metadata": {},
   "outputs": [
    {
     "data": {
      "text/plain": [
       "[{'atcId': 'L2022120500000931',\n",
       "  'lstPlace': '여의도역 방향 503번 버스 내',\n",
       "  'lstPrdtNm': '뱀피무늬 서류가방',\n",
       "  'lstSbjt': '뱀피무늬 서류가방(엘로우(노랑)색)을 분실하였습니다.',\n",
       "  'lstYmd': '2022-12-05',\n",
       "  'prdtClNm': '가방 > 기타가방',\n",
       "  'rnum': '1'},\n",
       " {'atcId': 'L2022120500000886',\n",
       "  'lstPlace': '사당동 1035-18 근처',\n",
       "  'lstPrdtNm': '디스커버리(discovery) 백팩 및 에어팟',\n",
       "  'lstSbjt': '디스커버리 가방 및 에어팟',\n",
       "  'lstYmd': '2022-12-02',\n",
       "  'prdtClNm': '가방 > 기타가방',\n",
       "  'rnum': '2'},\n",
       " {'atcId': 'L2022120500000621',\n",
       "  'lstPlace': '서경대학교 혜임관 흡연구역 내',\n",
       "  'lstPrdtNm': '검정색 여행캐리어크기의 검정하드케이스, 조명(영화)장비 등',\n",
       "  'lstSbjt': '검정색 여행캐리어크기의  검정하드케이스, 조명(영화)장비 등(블랙(검정)색)을 분실하였습니다.',\n",
       "  'lstYmd': '2022-12-05',\n",
       "  'prdtClNm': '가방 > 기타가방',\n",
       "  'rnum': '3'},\n",
       " {'atcId': 'L2022120500000206',\n",
       "  'lstPlace': '지하철내(2,9호선.공항철도)',\n",
       "  'lstPrdtNm': '체크(검정,흰색)작은가방- 지갑(신분증有),줄이어폰,화장품,핸드크림 등',\n",
       "  'lstSbjt': '가방분실(체크무늬가방 흰/검)',\n",
       "  'lstYmd': '2022-12-04',\n",
       "  'prdtClNm': '가방 > 기타가방',\n",
       "  'rnum': '4'},\n",
       " {'atcId': 'L2022120400000639',\n",
       "  'lstPlace': '구로119안전센터 근처 도로',\n",
       "  'lstPrdtNm': '조그만 에코백',\n",
       "  'lstSbjt': '조그만 에코백을 잃어버렸습니다.',\n",
       "  'lstYmd': '2022-12-04',\n",
       "  'prdtClNm': '가방 > 기타가방',\n",
       "  'rnum': '5'},\n",
       " {'atcId': 'L2022120400000527',\n",
       "  'lstPlace': '지하철역',\n",
       "  'lstPrdtNm': '가방',\n",
       "  'lstSbjt': '검정색 가방을 잃어버렸습니다',\n",
       "  'lstYmd': '2022-12-04',\n",
       "  'prdtClNm': '가방 > 기타가방',\n",
       "  'rnum': '6'},\n",
       " {'atcId': 'L2022120400000472',\n",
       "  'lstPlace': '택시 안',\n",
       "  'lstPrdtNm': '마르지엘라 에코백',\n",
       "  'lstSbjt': '마르지 엘라 에코백(블랙(검정)색)을 분실하였습니다.',\n",
       "  'lstYmd': '2022-12-04',\n",
       "  'prdtClNm': '가방 > 기타가방',\n",
       "  'rnum': '7'},\n",
       " {'atcId': 'L2022120400000351',\n",
       "  'lstPlace': '강남역 주변',\n",
       "  'lstPrdtNm': '나이키 크로스백',\n",
       "  'lstSbjt': '나이키 크로스백(블랙(검정)색)을 분실하였습니다.',\n",
       "  'lstYmd': '2022-12-01',\n",
       "  'prdtClNm': '가방 > 기타가방',\n",
       "  'rnum': '8'},\n",
       " {'atcId': 'L2022120400000323',\n",
       "  'lstPlace': '지하철 4호선 서울역 열차 내',\n",
       "  'lstPrdtNm': '뉴발란스 백팩 (고리에 토토로 인형  부착)',\n",
       "  'lstSbjt': '뉴발란스 백팩 분실',\n",
       "  'lstYmd': '2022-12-04',\n",
       "  'prdtClNm': '가방 > 기타가방',\n",
       "  'rnum': '9'},\n",
       " {'atcId': 'L2022120400000237',\n",
       "  'lstPlace': '은빛2단지 노상',\n",
       "  'lstPrdtNm': '검은색 가방',\n",
       "  'lstSbjt': '검은색 가방(블랙(검정)색)을 분실하였습니다.',\n",
       "  'lstYmd': '2022-12-04',\n",
       "  'prdtClNm': '가방 > 기타 가방',\n",
       "  'rnum': '10'}]"
      ]
     },
     "execution_count": 13,
     "metadata": {},
     "output_type": "execute_result"
    }
   ],
   "source": [
    "res['response']['body']['items']['item']"
   ]
  },
  {
   "cell_type": "code",
   "execution_count": null,
   "metadata": {},
   "outputs": [],
   "source": []
  }
 ],
 "metadata": {
  "kernelspec": {
   "display_name": "Python 3.8.15 ('aivle')",
   "language": "python",
   "name": "python3"
  },
  "language_info": {
   "codemirror_mode": {
    "name": "ipython",
    "version": 3
   },
   "file_extension": ".py",
   "mimetype": "text/x-python",
   "name": "python",
   "nbconvert_exporter": "python",
   "pygments_lexer": "ipython3",
   "version": "3.8.15"
  },
  "orig_nbformat": 4,
  "vscode": {
   "interpreter": {
    "hash": "9676231af8a8b40e18afff2eb530987aa2ea69eb5abd161b4e84bd9287972a9b"
   }
  }
 },
 "nbformat": 4,
 "nbformat_minor": 2
}
