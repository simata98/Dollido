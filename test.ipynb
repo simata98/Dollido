{
 "cells": [
  {
   "cell_type": "code",
   "execution_count": 1,
   "metadata": {},
   "outputs": [],
   "source": [
    "res = {'response': {'header': {'resultCode': '00', 'resultMsg': 'NORMAL SERVICE.'}, 'body': {'items': {'item': [{'atcId': 'L2022120700000910', 'lstPlace': '구로5동 영림중학교~거리공원~자전거도로(도림천)~대림3동현대아파트3차후문앞', 'lstPrdtNm': '검정색 캉골가방', 'lstSbjt': '검정색 캉골 크로스백 (A4용지 두장정도 사이즈)', 'lstYmd': '2022-12-01', 'prdtClNm': '가방 > 기타가방', 'rnum': '1'}, {'atcId': 'L2022120700000752', 'lstPlace': '버스안', 'lstPrdtNm': '데상트가방', 'lstSbjt': '데상트가방', 'lstYmd': '2022-12-06', 'prdtClNm': '가방 > 기타가방', 'rnum': '2'}, {'atcId': 'L2022120700000239', 'lstPlace': '지하철 7호선 하계역', 'lstPrdtNm': '빨강색 백팩', 'lstSbjt': '빨강색 백팩을 분실했습니다.', 'lstYmd': '2022-12-06', 'prdtClNm': '가방 > 기타가방', 'rnum': '3'}, {'atcId': 'L2022120700000185', 'lstPlace': '창동 창동역 1번출구 인근벤치', 'lstPrdtNm': '서류가방', 'lstSbjt': '서류가방(블랙(검정)색)을 분실하였습니다.', 'lstYmd': '2022-12-06', 'prdtClNm': '가방 > 기타가방', 'rnum': '4'}, {'atcId': 'L2022120700000160', 'lstPlace': '지하철 6호선 동묘에서 이태원 사이', 'lstPrdtNm': '베이지색 에코백 (BP PILATES) 음식물', 'lstSbjt': '6호선 동묘역에서 이태원역 사이 흰색 에코백 분실 음식물 있음', 'lstYmd': '2022-12-06', 'prdtClNm': '가방 > 기타가방', 'rnum': '5'}, {'atcId': 'L2022120700000041', 'lstPlace': '택시 내', 'lstPrdtNm': '루이비통 클러치백', 'lstSbjt': '루이비통 클러치백(블랙(검정)색)을 분실하였습니다.', 'lstYmd': '2022-12-06', 'prdtClNm': '가방 > 기타가방', 'rnum': '6'}, {'atcId': 'L2022120600000819', 'lstPlace': '수유역 방면 버스정류장', 'lstPrdtNm': '캉골 가방', 'lstSbjt': '캉골 가방(화이트(흰)색)을 분실하였습니다.', 'lstYmd': '2022-12-06', 'prdtClNm': '가방 >  기타가방', 'rnum': '7'}, {'atcId': 'L2022120600000788', 'lstPlace': '응암역 역사내', 'lstPrdtNm': '파우치', 'lstSbjt': '파우치(피치오렌지(오렌지)색)을 분실하였습니다.', 'lstYmd': '2022-12-06', 'prdtClNm': '가방 > 기타가방', 'rnum': '8'}, {'atcId': 'L2022120600000753', 'lstPlace': '택시 안', 'lstPrdtNm': '디올 클러치', 'lstSbjt': '디올 클러치(블랙(검정)색)을 분실하였습니다.', 'lstYmd': '2022-12-05', 'prdtClNm': '가방 > 기타가방', 'rnum': '9'}, {'atcId': 'L2022120600000655', 'lstPlace': '삼전어린이공원', 'lstPrdtNm': '하늘색옆으로매는가방', 'lstSbjt': '하늘색옆으로매는가방(딥스카이블루(새파란하늘)색)을 분실하였습니다.', 'lstYmd': '2022-12-06', 'prdtClNm': '가방 > 기타가방', 'rnum': '10'}]}, 'numOfRows': '10', 'pageNo': '1', 'totalCount': '49'}}}"
   ]
  },
  {
   "cell_type": "code",
   "execution_count": 4,
   "metadata": {},
   "outputs": [
    {
     "data": {
      "text/plain": [
       "dict_keys(['atcId', 'lstPlace', 'lstPrdtNm', 'lstSbjt', 'lstYmd', 'prdtClNm', 'rnum'])"
      ]
     },
     "execution_count": 4,
     "metadata": {},
     "output_type": "execute_result"
    }
   ],
   "source": [
    "res['response']['body']['items']['item'][0].keys()"
   ]
  },
  {
   "cell_type": "code",
   "execution_count": 1,
   "metadata": {},
   "outputs": [],
   "source": [
    "j = {'atcId': 'F2022120800004511', 'clrNm': '블랙(검정)', 'depPlace': '서울동대문경찰서', 'fdFilePathImg': 'https://www.lost112.go.kr/lostnfs/images/uploadImg/20221208/r_20221208093245505.jpg', 'fdPrdtNm': '지갑', 'fdSbjt': '지갑(블랙(검정)색)을 습득하여 보관하고 있습니다.', 'fdSn': '1', 'fdYmd': '2022-11-30', 'prdtClNm': '지갑 > 기타 지갑', 'rnum': '1'}"
   ]
  },
  {
   "cell_type": "code",
   "execution_count": 3,
   "metadata": {},
   "outputs": [
    {
     "name": "stdout",
     "output_type": "stream",
     "text": [
      "F2022120800004511\n",
      "지갑\n",
      "https://www.lost112.go.kr/lostnfs/images/uploadImg/20221208/r_20221208093245505.jpg\n",
      "지갑(블랙(검정)색)을 습득하여 보관하고 있습니다.\n",
      "서울동대문경찰서\n",
      "2022-11-30\n",
      "지갑 > 기타 지갑\n",
      "['clrNm']\n"
     ]
    }
   ],
   "source": [
    "print(j['atcId'])\n",
    "print(j['fdPrdtNm'])\n",
    "print(j['fdFilePathImg'])\n",
    "print(j['fdSbjt'])\n",
    "print(j['depPlace'])\n",
    "print(j['fdYmd'])\n",
    "print(j['prdtClNm'])\n",
    "print(['clrNm'])"
   ]
  },
  {
   "cell_type": "code",
   "execution_count": 17,
   "metadata": {},
   "outputs": [
    {
     "ename": "ModuleNotFoundError",
     "evalue": "No module named 'config.settings'",
     "output_type": "error",
     "traceback": [
      "\u001b[1;31m---------------------------------------------------------------------------\u001b[0m",
      "\u001b[1;31mModuleNotFoundError\u001b[0m                       Traceback (most recent call last)",
      "Cell \u001b[1;32mIn[17], line 1\u001b[0m\n\u001b[1;32m----> 1\u001b[0m \u001b[39mfrom\u001b[39;00m \u001b[39mpost\u001b[39;00m\u001b[39m.\u001b[39;00m\u001b[39mmodels\u001b[39;00m \u001b[39mimport\u001b[39;00m ApiListId\n",
      "File \u001b[1;32mc:\\Users\\User\\Desktop\\Bigproject2\\post\\models.py:2\u001b[0m\n\u001b[0;32m      1\u001b[0m \u001b[39mfrom\u001b[39;00m \u001b[39mdjango\u001b[39;00m\u001b[39m.\u001b[39;00m\u001b[39mdb\u001b[39;00m \u001b[39mimport\u001b[39;00m models\n\u001b[1;32m----> 2\u001b[0m \u001b[39mfrom\u001b[39;00m \u001b[39maccounts\u001b[39;00m\u001b[39m.\u001b[39;00m\u001b[39mmodels\u001b[39;00m \u001b[39mimport\u001b[39;00m User\n\u001b[0;32m      4\u001b[0m \u001b[39mclass\u001b[39;00m \u001b[39mCategory\u001b[39;00m(models\u001b[39m.\u001b[39mModel):\n\u001b[0;32m      5\u001b[0m   category_id \u001b[39m=\u001b[39m models\u001b[39m.\u001b[39mAutoField(primary_key\u001b[39m=\u001b[39m\u001b[39mTrue\u001b[39;00m)\n",
      "File \u001b[1;32mc:\\Users\\User\\Desktop\\Bigproject2\\accounts\\models.py:2\u001b[0m\n\u001b[0;32m      1\u001b[0m \u001b[39mfrom\u001b[39;00m \u001b[39mdjango\u001b[39;00m\u001b[39m.\u001b[39;00m\u001b[39mdb\u001b[39;00m \u001b[39mimport\u001b[39;00m models\n\u001b[1;32m----> 2\u001b[0m \u001b[39mfrom\u001b[39;00m \u001b[39mdjango\u001b[39;00m\u001b[39m.\u001b[39;00m\u001b[39mcontrib\u001b[39;00m\u001b[39m.\u001b[39;00m\u001b[39mauth\u001b[39;00m\u001b[39m.\u001b[39;00m\u001b[39mmodels\u001b[39;00m \u001b[39mimport\u001b[39;00m BaseUserManager, AbstractBaseUser, PermissionsMixin\n\u001b[0;32m      3\u001b[0m \u001b[39mfrom\u001b[39;00m \u001b[39mdjango\u001b[39;00m\u001b[39m.\u001b[39;00m\u001b[39mutils\u001b[39;00m \u001b[39mimport\u001b[39;00m timezone\n\u001b[0;32m      4\u001b[0m \u001b[39mfrom\u001b[39;00m \u001b[39mdjango\u001b[39;00m\u001b[39m.\u001b[39;00m\u001b[39mutils\u001b[39;00m\u001b[39m.\u001b[39;00m\u001b[39mtranslation\u001b[39;00m \u001b[39mimport\u001b[39;00m ugettext_lazy \u001b[39mas\u001b[39;00m _\n",
      "File \u001b[1;32mc:\\Users\\User\\anaconda3\\envs\\aivle\\lib\\site-packages\\django\\contrib\\auth\\models.py:3\u001b[0m\n\u001b[0;32m      1\u001b[0m \u001b[39mfrom\u001b[39;00m \u001b[39mdjango\u001b[39;00m\u001b[39m.\u001b[39;00m\u001b[39mapps\u001b[39;00m \u001b[39mimport\u001b[39;00m apps\n\u001b[0;32m      2\u001b[0m \u001b[39mfrom\u001b[39;00m \u001b[39mdjango\u001b[39;00m\u001b[39m.\u001b[39;00m\u001b[39mcontrib\u001b[39;00m \u001b[39mimport\u001b[39;00m auth\n\u001b[1;32m----> 3\u001b[0m \u001b[39mfrom\u001b[39;00m \u001b[39mdjango\u001b[39;00m\u001b[39m.\u001b[39;00m\u001b[39mcontrib\u001b[39;00m\u001b[39m.\u001b[39;00m\u001b[39mauth\u001b[39;00m\u001b[39m.\u001b[39;00m\u001b[39mbase_user\u001b[39;00m \u001b[39mimport\u001b[39;00m AbstractBaseUser, BaseUserManager\n\u001b[0;32m      4\u001b[0m \u001b[39mfrom\u001b[39;00m \u001b[39mdjango\u001b[39;00m\u001b[39m.\u001b[39;00m\u001b[39mcontrib\u001b[39;00m\u001b[39m.\u001b[39;00m\u001b[39mauth\u001b[39;00m\u001b[39m.\u001b[39;00m\u001b[39mhashers\u001b[39;00m \u001b[39mimport\u001b[39;00m make_password\n\u001b[0;32m      5\u001b[0m \u001b[39mfrom\u001b[39;00m \u001b[39mdjango\u001b[39;00m\u001b[39m.\u001b[39;00m\u001b[39mcontrib\u001b[39;00m\u001b[39m.\u001b[39;00m\u001b[39mcontenttypes\u001b[39;00m\u001b[39m.\u001b[39;00m\u001b[39mmodels\u001b[39;00m \u001b[39mimport\u001b[39;00m ContentType\n",
      "File \u001b[1;32mc:\\Users\\User\\anaconda3\\envs\\aivle\\lib\\site-packages\\django\\contrib\\auth\\base_user.py:49\u001b[0m\n\u001b[0;32m     45\u001b[0m     \u001b[39mdef\u001b[39;00m \u001b[39mget_by_natural_key\u001b[39m(\u001b[39mself\u001b[39m, username):\n\u001b[0;32m     46\u001b[0m         \u001b[39mreturn\u001b[39;00m \u001b[39mself\u001b[39m\u001b[39m.\u001b[39mget(\u001b[39m*\u001b[39m\u001b[39m*\u001b[39m{\u001b[39mself\u001b[39m\u001b[39m.\u001b[39mmodel\u001b[39m.\u001b[39mUSERNAME_FIELD: username})\n\u001b[1;32m---> 49\u001b[0m \u001b[39mclass\u001b[39;00m \u001b[39mAbstractBaseUser\u001b[39;00m(models\u001b[39m.\u001b[39mModel):\n\u001b[0;32m     50\u001b[0m     password \u001b[39m=\u001b[39m models\u001b[39m.\u001b[39mCharField(_(\u001b[39m\"\u001b[39m\u001b[39mpassword\u001b[39m\u001b[39m\"\u001b[39m), max_length\u001b[39m=\u001b[39m\u001b[39m128\u001b[39m)\n\u001b[0;32m     51\u001b[0m     last_login \u001b[39m=\u001b[39m models\u001b[39m.\u001b[39mDateTimeField(_(\u001b[39m\"\u001b[39m\u001b[39mlast login\u001b[39m\u001b[39m\"\u001b[39m), blank\u001b[39m=\u001b[39m\u001b[39mTrue\u001b[39;00m, null\u001b[39m=\u001b[39m\u001b[39mTrue\u001b[39;00m)\n",
      "File \u001b[1;32mc:\\Users\\User\\anaconda3\\envs\\aivle\\lib\\site-packages\\django\\db\\models\\base.py:127\u001b[0m, in \u001b[0;36mModelBase.__new__\u001b[1;34m(cls, name, bases, attrs, **kwargs)\u001b[0m\n\u001b[0;32m    124\u001b[0m app_label \u001b[39m=\u001b[39m \u001b[39mNone\u001b[39;00m\n\u001b[0;32m    126\u001b[0m \u001b[39m# Look for an application configuration to attach the model to.\u001b[39;00m\n\u001b[1;32m--> 127\u001b[0m app_config \u001b[39m=\u001b[39m apps\u001b[39m.\u001b[39;49mget_containing_app_config(module)\n\u001b[0;32m    129\u001b[0m \u001b[39mif\u001b[39;00m \u001b[39mgetattr\u001b[39m(meta, \u001b[39m\"\u001b[39m\u001b[39mapp_label\u001b[39m\u001b[39m\"\u001b[39m, \u001b[39mNone\u001b[39;00m) \u001b[39mis\u001b[39;00m \u001b[39mNone\u001b[39;00m:\n\u001b[0;32m    130\u001b[0m     \u001b[39mif\u001b[39;00m app_config \u001b[39mis\u001b[39;00m \u001b[39mNone\u001b[39;00m:\n",
      "File \u001b[1;32mc:\\Users\\User\\anaconda3\\envs\\aivle\\lib\\site-packages\\django\\apps\\registry.py:260\u001b[0m, in \u001b[0;36mApps.get_containing_app_config\u001b[1;34m(self, object_name)\u001b[0m\n\u001b[0;32m    251\u001b[0m \u001b[39mdef\u001b[39;00m \u001b[39mget_containing_app_config\u001b[39m(\u001b[39mself\u001b[39m, object_name):\n\u001b[0;32m    252\u001b[0m     \u001b[39m\"\"\"\u001b[39;00m\n\u001b[0;32m    253\u001b[0m \u001b[39m    Look for an app config containing a given object.\u001b[39;00m\n\u001b[0;32m    254\u001b[0m \n\u001b[1;32m   (...)\u001b[0m\n\u001b[0;32m    258\u001b[0m \u001b[39m    Return None if the object isn't in any registered app config.\u001b[39;00m\n\u001b[0;32m    259\u001b[0m \u001b[39m    \"\"\"\u001b[39;00m\n\u001b[1;32m--> 260\u001b[0m     \u001b[39mself\u001b[39;49m\u001b[39m.\u001b[39;49mcheck_apps_ready()\n\u001b[0;32m    261\u001b[0m     candidates \u001b[39m=\u001b[39m []\n\u001b[0;32m    262\u001b[0m     \u001b[39mfor\u001b[39;00m app_config \u001b[39min\u001b[39;00m \u001b[39mself\u001b[39m\u001b[39m.\u001b[39mapp_configs\u001b[39m.\u001b[39mvalues():\n",
      "File \u001b[1;32mc:\\Users\\User\\anaconda3\\envs\\aivle\\lib\\site-packages\\django\\apps\\registry.py:137\u001b[0m, in \u001b[0;36mApps.check_apps_ready\u001b[1;34m(self)\u001b[0m\n\u001b[0;32m    132\u001b[0m \u001b[39mfrom\u001b[39;00m \u001b[39mdjango\u001b[39;00m\u001b[39m.\u001b[39;00m\u001b[39mconf\u001b[39;00m \u001b[39mimport\u001b[39;00m settings\n\u001b[0;32m    134\u001b[0m \u001b[39m# If \"not ready\" is due to unconfigured settings, accessing\u001b[39;00m\n\u001b[0;32m    135\u001b[0m \u001b[39m# INSTALLED_APPS raises a more helpful ImproperlyConfigured\u001b[39;00m\n\u001b[0;32m    136\u001b[0m \u001b[39m# exception.\u001b[39;00m\n\u001b[1;32m--> 137\u001b[0m settings\u001b[39m.\u001b[39;49mINSTALLED_APPS\n\u001b[0;32m    138\u001b[0m \u001b[39mraise\u001b[39;00m AppRegistryNotReady(\u001b[39m\"\u001b[39m\u001b[39mApps aren\u001b[39m\u001b[39m'\u001b[39m\u001b[39mt loaded yet.\u001b[39m\u001b[39m\"\u001b[39m)\n",
      "File \u001b[1;32mc:\\Users\\User\\anaconda3\\envs\\aivle\\lib\\site-packages\\django\\conf\\__init__.py:92\u001b[0m, in \u001b[0;36mLazySettings.__getattr__\u001b[1;34m(self, name)\u001b[0m\n\u001b[0;32m     90\u001b[0m \u001b[39m\"\"\"Return the value of a setting and cache it in self.__dict__.\"\"\"\u001b[39;00m\n\u001b[0;32m     91\u001b[0m \u001b[39mif\u001b[39;00m (_wrapped \u001b[39m:=\u001b[39m \u001b[39mself\u001b[39m\u001b[39m.\u001b[39m_wrapped) \u001b[39mis\u001b[39;00m empty:\n\u001b[1;32m---> 92\u001b[0m     \u001b[39mself\u001b[39;49m\u001b[39m.\u001b[39;49m_setup(name)\n\u001b[0;32m     93\u001b[0m     _wrapped \u001b[39m=\u001b[39m \u001b[39mself\u001b[39m\u001b[39m.\u001b[39m_wrapped\n\u001b[0;32m     94\u001b[0m val \u001b[39m=\u001b[39m \u001b[39mgetattr\u001b[39m(_wrapped, name)\n",
      "File \u001b[1;32mc:\\Users\\User\\anaconda3\\envs\\aivle\\lib\\site-packages\\django\\conf\\__init__.py:79\u001b[0m, in \u001b[0;36mLazySettings._setup\u001b[1;34m(self, name)\u001b[0m\n\u001b[0;32m     71\u001b[0m     desc \u001b[39m=\u001b[39m (\u001b[39m\"\u001b[39m\u001b[39msetting \u001b[39m\u001b[39m%s\u001b[39;00m\u001b[39m\"\u001b[39m \u001b[39m%\u001b[39m name) \u001b[39mif\u001b[39;00m name \u001b[39melse\u001b[39;00m \u001b[39m\"\u001b[39m\u001b[39msettings\u001b[39m\u001b[39m\"\u001b[39m\n\u001b[0;32m     72\u001b[0m     \u001b[39mraise\u001b[39;00m ImproperlyConfigured(\n\u001b[0;32m     73\u001b[0m         \u001b[39m\"\u001b[39m\u001b[39mRequested \u001b[39m\u001b[39m%s\u001b[39;00m\u001b[39m, but settings are not configured. \u001b[39m\u001b[39m\"\u001b[39m\n\u001b[0;32m     74\u001b[0m         \u001b[39m\"\u001b[39m\u001b[39mYou must either define the environment variable \u001b[39m\u001b[39m%s\u001b[39;00m\u001b[39m \u001b[39m\u001b[39m\"\u001b[39m\n\u001b[0;32m     75\u001b[0m         \u001b[39m\"\u001b[39m\u001b[39mor call settings.configure() before accessing settings.\u001b[39m\u001b[39m\"\u001b[39m\n\u001b[0;32m     76\u001b[0m         \u001b[39m%\u001b[39m (desc, ENVIRONMENT_VARIABLE)\n\u001b[0;32m     77\u001b[0m     )\n\u001b[1;32m---> 79\u001b[0m \u001b[39mself\u001b[39m\u001b[39m.\u001b[39m_wrapped \u001b[39m=\u001b[39m Settings(settings_module)\n",
      "File \u001b[1;32mc:\\Users\\User\\anaconda3\\envs\\aivle\\lib\\site-packages\\django\\conf\\__init__.py:190\u001b[0m, in \u001b[0;36mSettings.__init__\u001b[1;34m(self, settings_module)\u001b[0m\n\u001b[0;32m    187\u001b[0m \u001b[39m# store the settings module in case someone later cares\u001b[39;00m\n\u001b[0;32m    188\u001b[0m \u001b[39mself\u001b[39m\u001b[39m.\u001b[39mSETTINGS_MODULE \u001b[39m=\u001b[39m settings_module\n\u001b[1;32m--> 190\u001b[0m mod \u001b[39m=\u001b[39m importlib\u001b[39m.\u001b[39;49mimport_module(\u001b[39mself\u001b[39;49m\u001b[39m.\u001b[39;49mSETTINGS_MODULE)\n\u001b[0;32m    192\u001b[0m tuple_settings \u001b[39m=\u001b[39m (\n\u001b[0;32m    193\u001b[0m     \u001b[39m\"\u001b[39m\u001b[39mALLOWED_HOSTS\u001b[39m\u001b[39m\"\u001b[39m,\n\u001b[0;32m    194\u001b[0m     \u001b[39m\"\u001b[39m\u001b[39mINSTALLED_APPS\u001b[39m\u001b[39m\"\u001b[39m,\n\u001b[1;32m   (...)\u001b[0m\n\u001b[0;32m    197\u001b[0m     \u001b[39m\"\u001b[39m\u001b[39mSECRET_KEY_FALLBACKS\u001b[39m\u001b[39m\"\u001b[39m,\n\u001b[0;32m    198\u001b[0m )\n\u001b[0;32m    199\u001b[0m \u001b[39mself\u001b[39m\u001b[39m.\u001b[39m_explicit_settings \u001b[39m=\u001b[39m \u001b[39mset\u001b[39m()\n",
      "File \u001b[1;32mc:\\Users\\User\\anaconda3\\envs\\aivle\\lib\\importlib\\__init__.py:127\u001b[0m, in \u001b[0;36mimport_module\u001b[1;34m(name, package)\u001b[0m\n\u001b[0;32m    125\u001b[0m             \u001b[39mbreak\u001b[39;00m\n\u001b[0;32m    126\u001b[0m         level \u001b[39m+\u001b[39m\u001b[39m=\u001b[39m \u001b[39m1\u001b[39m\n\u001b[1;32m--> 127\u001b[0m \u001b[39mreturn\u001b[39;00m _bootstrap\u001b[39m.\u001b[39;49m_gcd_import(name[level:], package, level)\n",
      "\u001b[1;31mModuleNotFoundError\u001b[0m: No module named 'config.settings'"
     ]
    }
   ],
   "source": [
    "from post.models import ApiListId"
   ]
  },
  {
   "cell_type": "code",
   "execution_count": 15,
   "metadata": {},
   "outputs": [
    {
     "name": "stdout",
     "output_type": "stream",
     "text": [
      "Collecting config\n",
      "  Downloading config-0.5.1-py2.py3-none-any.whl (20 kB)\n",
      "Installing collected packages: config\n",
      "Successfully installed config-0.5.1\n"
     ]
    }
   ],
   "source": [
    "!pip install config"
   ]
  },
  {
   "cell_type": "code",
   "execution_count": null,
   "metadata": {},
   "outputs": [],
   "source": []
  }
 ],
 "metadata": {
  "kernelspec": {
   "display_name": "Python 3.8.15 ('aivle')",
   "language": "python",
   "name": "python3"
  },
  "language_info": {
   "codemirror_mode": {
    "name": "ipython",
    "version": 3
   },
   "file_extension": ".py",
   "mimetype": "text/x-python",
   "name": "python",
   "nbconvert_exporter": "python",
   "pygments_lexer": "ipython3",
   "version": "3.8.15"
  },
  "orig_nbformat": 4,
  "vscode": {
   "interpreter": {
    "hash": "9676231af8a8b40e18afff2eb530987aa2ea69eb5abd161b4e84bd9287972a9b"
   }
  }
 },
 "nbformat": 4,
 "nbformat_minor": 2
}
